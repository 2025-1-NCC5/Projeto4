{
 "cells": [
  {
   "cell_type": "markdown",
   "metadata": {},
   "source": [
    "# Importação dos modulos"
   ]
  },
  {
   "cell_type": "code",
   "execution_count": null,
   "metadata": {},
   "outputs": [],
   "source": [
    "import pandas as pd\n",
    "from datetime import datetime\n",
    "import os"
   ]
  },
  {
   "cell_type": "code",
   "execution_count": 36,
   "metadata": {},
   "outputs": [
    {
     "name": "stderr",
     "output_type": "stream",
     "text": [
      "C:\\Users\\lucca\\AppData\\Local\\Temp\\ipykernel_28140\\1545106618.py:1: DtypeWarning: Columns (7,8) have mixed types. Specify dtype option on import or set low_memory=False.\n",
      "  address_df = pd.read_csv('./data/rideaddress_v1.csv', sep=';')\n"
     ]
    }
   ],
   "source": [
    "address_df = pd.read_csv('./data/rideaddress_v1.csv', sep=';')\n",
    "ride_df = pd.read_csv('./data/ride_v2.csv', sep=';')\n",
    "estimative_df = pd.read_csv('./data/rideestimative_v3.csv', sep=';')\n",
    "product_df = pd.read_csv('./data/product.csv', sep=';')\n",
    "\n",
    "address_df = address_df[[\"Address\", \"Lat\", \"Lng\", \"RideAddressTypeID\", \"RideID\"]].copy()\n",
    "ride_df = ride_df[[\"RideID\", \"Create\", \"price\"]]\n",
    "estimative_df = estimative_df[[\"RideID\", \"ProductID\", \"Price\"]]"
   ]
  },
  {
   "cell_type": "code",
   "execution_count": 37,
   "metadata": {},
   "outputs": [],
   "source": [
    "address_df.rename(columns={\n",
    "    \"Address\": \"address\",\n",
    "    \"Lat\": \"latitude\",\n",
    "    \"Lng\": \"longitude\",\n",
    "    \"RideAddressTypeID\": \"address_type\",\n",
    "    \"RideID\": \"ride_id\"\n",
    "}, inplace=True)\n",
    "\n",
    "ride_df.rename(columns={\n",
    "    \"RideID\": \"ride_id\",\n",
    "    \"Create\": \"date\",\n",
    "    \"price\": \"price\"\n",
    "}, inplace=True)\n",
    "\n",
    "estimative_df.rename(columns={\n",
    "    \"RideID\": \"ride_id\",\n",
    "    \"ProductID\": \"product_id\",\n",
    "    \"Price\": \"estimative_price\"\n",
    "}, inplace=True)"
   ]
  }
 ],
 "metadata": {
  "kernelspec": {
   "display_name": "Python 3",
   "language": "python",
   "name": "python3"
  },
  "language_info": {
   "codemirror_mode": {
    "name": "ipython",
    "version": 3
   },
   "file_extension": ".py",
   "mimetype": "text/x-python",
   "name": "python",
   "nbconvert_exporter": "python",
   "pygments_lexer": "ipython3",
   "version": "3.13.1"
  }
 },
 "nbformat": 4,
 "nbformat_minor": 2
}
