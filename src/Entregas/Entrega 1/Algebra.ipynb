{
 "cells": [
  {
   "cell_type": "markdown",
   "metadata": {},
   "source": [
    "## **Requisitos da professora**:\n",
    "\n",
    "> ### **Representação e Manipulação de Dados:**\n",
    ">\n",
    "> - Formato de Entrega: Código-Fonte, Relatório com Capturas de Tela e Explicação Matemática\n",
    "> - Objetivo: Os estudantes devem estruturar um conjunto de dados relevante para um problema prático e representá-lo usando vetores e matrizes. \n",
    ">\n",
    "> ### Atividades:\n",
    "> - Escolher ou coletar um conjunto de dados relevante para uma aplicação de IA.\n",
    "> - Representar esses dados na forma de vetores e matrizes, utilizando Python e NumPy.\n",
    "> - Implementar operações básicas de adição, multiplicação e/ou transposição de matrizes ou outra operação utilizada em sala.\n"
   ]
  },
  {
   "cell_type": "code",
   "execution_count": null,
   "metadata": {},
   "outputs": [],
   "source": [
    "# Importação de Bibliotecas\n",
    "# Importação do NumPy para manipulação de arrays e matrizes.\n",
    "import numpy as np"
   ]
  },
  {
   "cell_type": "code",
   "execution_count": 4,
   "metadata": {},
   "outputs": [
    {
     "name": "stdout",
     "output_type": "stream",
     "text": [
      "Dataset (cada linha representa um condutor):\n",
      "Idade do Condutor, Tempo de Habilitação (anos), Número de Sinistros\n",
      "[[25  5  0]\n",
      " [40 20  1]\n",
      " [30 10  0]\n",
      " [22  2  2]\n",
      " [35 15  1]]\n"
     ]
    }
   ],
   "source": [
    "# Criação do Dataset\n",
    "# Dataset fictício para seguro automotivo.\n",
    "# Cada linha representa um condutor com as seguintes características:\n",
    "# [Idade do Condutor, Tempo de Habilitação (anos), Número de Sinistros]\n",
    "dados = np.array([\n",
    "    [25, 5, 0],\n",
    "    [40, 20, 1],\n",
    "    [30, 10, 0],\n",
    "    [22, 2, 2],\n",
    "    [35, 15, 1]\n",
    "])\n",
    "\n",
    "# Exibindo o dataset\n",
    "print(\"Dataset (cada linha representa um condutor):\")\n",
    "print(\"Idade do Condutor, Tempo de Habilitação (anos), Número de Sinistros\")\n",
    "print(dados)\n"
   ]
  },
  {
   "cell_type": "code",
   "execution_count": 5,
   "metadata": {},
   "outputs": [
    {
     "name": "stdout",
     "output_type": "stream",
     "text": [
      "Dataset após adição (ajuste de +2 em cada elemento):\n",
      "[[27  7  2]\n",
      " [42 22  3]\n",
      " [32 12  2]\n",
      " [24  4  4]\n",
      " [37 17  3]]\n",
      "\n",
      "Cálculo do prêmio de seguro para cada condutor (produto escalar):\n",
      "[275 520 350 270 445]\n",
      "\n",
      "Transposta do dataset:\n",
      "[[25 40 30 22 35]\n",
      " [ 5 20 10  2 15]\n",
      " [ 0  1  0  2  1]]\n"
     ]
    }
   ],
   "source": [
    "# Operações Básicas de Matrizes\n",
    "\n",
    "# 1. Adição de Matrizes\n",
    "# Criação uma matriz de ajuste (com valor 2 em todos os elementos) para simular, por exemplo, \n",
    "# um acréscimo fixo nos parâmetros de avaliação.\n",
    "ajuste = np.full(dados.shape, 2)\n",
    "dados_ajustados = dados + ajuste\n",
    "\n",
    "print(\"Dataset após adição (ajuste de +2 em cada elemento):\")\n",
    "print(dados_ajustados)\n",
    "\n",
    "# 2. Multiplicação (Produto Escalar)\n",
    "# Definição um vetor de pesos para cada característica, que pode representar a importância de cada fator na definição do prêmio.\n",
    "pesos = np.array([10, 5, 20])  # Por exemplo: 10 para idade, 5 para tempo de habilitação e 20 para sinistros.\n",
    "# Calculo do prêmio para cada condutor utilizando o produto escalar.\n",
    "premios = dados.dot(pesos)\n",
    "\n",
    "print(\"\\nCálculo do prêmio de seguro para cada condutor (produto escalar):\")\n",
    "print(premios)\n",
    "\n",
    "# 3. Transposição de Matrizes\n",
    "# A transposta é útil para reorganizar os dados, por exemplo, para análise estatística por coluna.\n",
    "dados_transposta = dados.T\n",
    "\n",
    "print(\"\\nTransposta do dataset:\")\n",
    "print(dados_transposta)\n"
   ]
  },
  {
   "cell_type": "markdown",
   "metadata": {},
   "source": [
    "## Explicação Matemática\n",
    "\n",
    "### Visão Geral\n",
    "Este notebook demonstra como estruturar e manipular um conjunto de dados relevante para uma aplicação prática na área de seguros. A solução explora conceitos fundamentais de álgebra linear usando o NumPy.\n",
    "\n",
    "### 1. Adição de Matrizes\n",
    "A adição é realizada elemento a elemento. Se temos duas matrizes A e B, ambas com dimensões iguais, o elemento (i,j) da matriz resultante é:\n",
    "  \n",
    "> (A + B)<sub>ij</sub> = A<sub>ij</sub> + B<sub>ij</sub>\n",
    "\n",
    "No exemplo, adicionamos um valor fixo (2) a cada elemento do dataset, simulando um ajuste.\n",
    "\n",
    "### 2. Multiplicação (Produto Escalar)\n",
    "Ao multiplicar uma matriz por um vetor, o produto resultante é obtido realizando o produto escalar de cada linha da matriz com o vetor. Formalmente, se A é uma matriz de dimensão m×n e v é um vetor de dimensão n, então o elemento i do produto é:\n",
    "  \n",
    "> (A · v)<sub>i</sub> = Σ<sub>j=1</sub><sup>n</sup> A<sub>ij</sub> * v<sub>j</sub>\n",
    "\n",
    "No exemplo, o vetor `pesos` representa a importância de cada característica na definição do prêmio de seguro. O produto escalar de cada linha de `dados` com `pesos` fornece o valor do prêmio para cada condutor.\n",
    "\n",
    "### 3. Transposição de Matrizes\n",
    "A transposição de uma matriz consiste em trocar suas linhas por colunas. Se A é uma matriz, sua transposta, A<sup>T</sup>, tem elementos:\n",
    "  \n",
    "> (A<sup>T</sup>)<sub>ij</sub> = A<sub>ji</sub>\n",
    "\n",
    "Isso é útil para reestruturar os dados de modo a facilitar análises que focam em cada variável separadamente."
   ]
  },
  {
   "cell_type": "code",
   "execution_count": 6,
   "metadata": {},
   "outputs": [
    {
     "name": "stdout",
     "output_type": "stream",
     "text": [
      "Matriz A:\n",
      "[[1 2]\n",
      " [3 4]]\n",
      "\n",
      "Matriz B:\n",
      "[[5 6]\n",
      " [7 8]]\n"
     ]
    }
   ],
   "source": [
    "# Definição de Matrizes Simples\n",
    "# Duas matrizes 2x2: A e B.\n",
    "A = np.array([[1, 2],\n",
    "              [3, 4]])\n",
    "\n",
    "B = np.array([[5, 6],\n",
    "              [7, 8]])\n",
    "\n",
    "print(\"Matriz A:\")\n",
    "print(A)\n",
    "print(\"\\nMatriz B:\")\n",
    "print(B)\n"
   ]
  },
  {
   "cell_type": "code",
   "execution_count": 7,
   "metadata": {},
   "outputs": [
    {
     "name": "stdout",
     "output_type": "stream",
     "text": [
      "Resultado da adição (A + B):\n",
      "[[ 6  8]\n",
      " [10 12]]\n"
     ]
    }
   ],
   "source": [
    "# Adição de Matrizes\n",
    "# A adição é feita elemento a elemento:\n",
    "# (A + B)[i][j] = A[i][j] + B[i][j]\n",
    "C = A + B\n",
    "\n",
    "print(\"Resultado da adição (A + B):\")\n",
    "print(C)\n"
   ]
  },
  {
   "cell_type": "code",
   "execution_count": 10,
   "metadata": {},
   "outputs": [
    {
     "name": "stdout",
     "output_type": "stream",
     "text": [
      "Resultado da multiplicação (A x B):\n",
      "[[19 22]\n",
      " [43 50]]\n",
      "\n",
      "Resultado da multiplicação com np.dot:\n",
      "[[19 22]\n",
      " [43 50]]\n"
     ]
    }
   ],
   "source": [
    "# Multiplicação de Matrizes\n",
    "# Produto matricial (dot product) entre A e B.\n",
    "# Ou seja, cada elemento (i, j) do resultado é:\n",
    "# (A * B)[i][j] = Σ (A[i][k] * B[k][j]) para k=0 até o número de colunas de A.\n",
    "\n",
    "D2 = np.dot(A, B)\n",
    "\n",
    "print(\"Resultado da multiplicação (A x B):\")\n",
    "print(D)\n",
    "print(\"\\nResultado da multiplicação com np.dot:\")\n",
    "print(D2)\n"
   ]
  },
  {
   "cell_type": "code",
   "execution_count": 11,
   "metadata": {},
   "outputs": [
    {
     "name": "stdout",
     "output_type": "stream",
     "text": [
      "Transposta de A:\n",
      "[[1 3]\n",
      " [2 4]]\n",
      "\n",
      "Transposta de B:\n",
      "[[5 7]\n",
      " [6 8]]\n"
     ]
    }
   ],
   "source": [
    "# Transposição de Matrizes\n",
    "# A transposta de uma matriz é obtida trocando suas linhas por colunas.\n",
    "A_transposta = A.T\n",
    "B_transposta = B.T\n",
    "\n",
    "print(\"Transposta de A:\")\n",
    "print(A_transposta)\n",
    "print(\"\\nTransposta de B:\")\n",
    "print(B_transposta)\n"
   ]
  },
  {
   "cell_type": "markdown",
   "metadata": {},
   "source": [
    "Referencias:\n",
    "\n",
    "\n",
    "- [Documentação numpy - Arrays](https://numpy.org/doc/2.2/user/basics.creation.html)\n",
    "\n",
    "- [Documentaçao numpy - Algebra linear](https://numpy.org/doc/2.2/reference/routines.linalg.html)\n",
    "\n",
    "- [Matrizes - Brasil Escola](https://brasilescola.uol.com.br/matematica/matriz.htm)"
   ]
  }
 ],
 "metadata": {
  "kernelspec": {
   "display_name": "Python 3",
   "language": "python",
   "name": "python3"
  },
  "language_info": {
   "codemirror_mode": {
    "name": "ipython",
    "version": 3
   },
   "file_extension": ".py",
   "mimetype": "text/x-python",
   "name": "python",
   "nbconvert_exporter": "python",
   "pygments_lexer": "ipython3",
   "version": "3.13.1"
  }
 },
 "nbformat": 4,
 "nbformat_minor": 2
}
